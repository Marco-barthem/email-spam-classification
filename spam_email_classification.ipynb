{
  "nbformat": 4,
  "nbformat_minor": 0,
  "metadata": {
    "colab": {
      "provenance": [],
      "authorship_tag": "ABX9TyN3+om8CGjKpaAHotSqYNTC",
      "include_colab_link": true
    },
    "kernelspec": {
      "name": "python3",
      "display_name": "Python 3"
    },
    "language_info": {
      "name": "python"
    }
  },
  "cells": [
    {
      "cell_type": "markdown",
      "metadata": {
        "id": "view-in-github",
        "colab_type": "text"
      },
      "source": [
        "<a href=\"https://colab.research.google.com/github/Marco-barthem/email-spam-classification/blob/main/spam_email_classification.ipynb\" target=\"_parent\"><img src=\"https://colab.research.google.com/assets/colab-badge.svg\" alt=\"Open In Colab\"/></a>"
      ]
    },
    {
      "cell_type": "markdown",
      "source": [
        "## Importando Dataset"
      ],
      "metadata": {
        "id": "7p1Yq3Gsmi8p"
      }
    },
    {
      "cell_type": "code",
      "execution_count": null,
      "metadata": {
        "colab": {
          "base_uri": "https://localhost:8080/",
          "height": 423
        },
        "id": "tGopKIiamhvS",
        "outputId": "56286c6f-e04e-4955-dff3-f0c3c6e6dbab"
      },
      "outputs": [
        {
          "output_type": "execute_result",
          "data": {
            "text/plain": [
              "      CATEGORY                                            MESSAGE  \\\n",
              "0            1  Dear Homeowner,\\n\\n \\n\\nInterest Rates are at ...   \n",
              "1            1  ATTENTION: This is a MUST for ALL Computer Use...   \n",
              "2            1  This is a multi-part message in MIME format.\\n...   \n",
              "3            1  IMPORTANT INFORMATION:\\n\\n\\n\\nThe new domain n...   \n",
              "4            1  This is the bottom line.  If you can GIVE AWAY...   \n",
              "...        ...                                                ...   \n",
              "5791         0  I'm one of the 30,000 but it's not working ver...   \n",
              "5792         0  Damien Morton quoted:\\n\\n>W3C approves HTML 4 ...   \n",
              "5793         0  On Mon, 2002-07-22 at 06:50, che wrote:\\n\\n\\n\\...   \n",
              "5794         0  Once upon a time, Manfred wrote :\\n\\n\\n\\n> I w...   \n",
              "5795         0  If you run Pick, and then use the \"New FTOC\" b...   \n",
              "\n",
              "                                   FILE_NAME  \n",
              "0     00249.5f45607c1bffe89f60ba1ec9f878039a  \n",
              "1     00373.ebe8670ac56b04125c25100a36ab0510  \n",
              "2     00214.1367039e50dc6b7adb0f2aa8aba83216  \n",
              "3     00210.050ffd105bd4e006771ee63cabc59978  \n",
              "4     00033.9babb58d9298daa2963d4f514193d7d6  \n",
              "...                                      ...  \n",
              "5791  00609.dd49926ce94a1ea328cce9b62825bc97  \n",
              "5792  00957.e0b56b117f3ec5f85e432a9d2a47801f  \n",
              "5793  01127.841233b48eceb74a825417d8d918abf8  \n",
              "5794  01178.5c977dff972cd6eef64d4173b90307f0  \n",
              "5795  00747.352d424267d36975a7b40b85ffd0885e  \n",
              "\n",
              "[5796 rows x 3 columns]"
            ],
            "text/html": [
              "\n",
              "  <div id=\"df-426d7d82-543d-4f1c-b6d5-c4eb0d33f358\" class=\"colab-df-container\">\n",
              "    <div>\n",
              "<style scoped>\n",
              "    .dataframe tbody tr th:only-of-type {\n",
              "        vertical-align: middle;\n",
              "    }\n",
              "\n",
              "    .dataframe tbody tr th {\n",
              "        vertical-align: top;\n",
              "    }\n",
              "\n",
              "    .dataframe thead th {\n",
              "        text-align: right;\n",
              "    }\n",
              "</style>\n",
              "<table border=\"1\" class=\"dataframe\">\n",
              "  <thead>\n",
              "    <tr style=\"text-align: right;\">\n",
              "      <th></th>\n",
              "      <th>CATEGORY</th>\n",
              "      <th>MESSAGE</th>\n",
              "      <th>FILE_NAME</th>\n",
              "    </tr>\n",
              "  </thead>\n",
              "  <tbody>\n",
              "    <tr>\n",
              "      <th>0</th>\n",
              "      <td>1</td>\n",
              "      <td>Dear Homeowner,\\n\\n \\n\\nInterest Rates are at ...</td>\n",
              "      <td>00249.5f45607c1bffe89f60ba1ec9f878039a</td>\n",
              "    </tr>\n",
              "    <tr>\n",
              "      <th>1</th>\n",
              "      <td>1</td>\n",
              "      <td>ATTENTION: This is a MUST for ALL Computer Use...</td>\n",
              "      <td>00373.ebe8670ac56b04125c25100a36ab0510</td>\n",
              "    </tr>\n",
              "    <tr>\n",
              "      <th>2</th>\n",
              "      <td>1</td>\n",
              "      <td>This is a multi-part message in MIME format.\\n...</td>\n",
              "      <td>00214.1367039e50dc6b7adb0f2aa8aba83216</td>\n",
              "    </tr>\n",
              "    <tr>\n",
              "      <th>3</th>\n",
              "      <td>1</td>\n",
              "      <td>IMPORTANT INFORMATION:\\n\\n\\n\\nThe new domain n...</td>\n",
              "      <td>00210.050ffd105bd4e006771ee63cabc59978</td>\n",
              "    </tr>\n",
              "    <tr>\n",
              "      <th>4</th>\n",
              "      <td>1</td>\n",
              "      <td>This is the bottom line.  If you can GIVE AWAY...</td>\n",
              "      <td>00033.9babb58d9298daa2963d4f514193d7d6</td>\n",
              "    </tr>\n",
              "    <tr>\n",
              "      <th>...</th>\n",
              "      <td>...</td>\n",
              "      <td>...</td>\n",
              "      <td>...</td>\n",
              "    </tr>\n",
              "    <tr>\n",
              "      <th>5791</th>\n",
              "      <td>0</td>\n",
              "      <td>I'm one of the 30,000 but it's not working ver...</td>\n",
              "      <td>00609.dd49926ce94a1ea328cce9b62825bc97</td>\n",
              "    </tr>\n",
              "    <tr>\n",
              "      <th>5792</th>\n",
              "      <td>0</td>\n",
              "      <td>Damien Morton quoted:\\n\\n&gt;W3C approves HTML 4 ...</td>\n",
              "      <td>00957.e0b56b117f3ec5f85e432a9d2a47801f</td>\n",
              "    </tr>\n",
              "    <tr>\n",
              "      <th>5793</th>\n",
              "      <td>0</td>\n",
              "      <td>On Mon, 2002-07-22 at 06:50, che wrote:\\n\\n\\n\\...</td>\n",
              "      <td>01127.841233b48eceb74a825417d8d918abf8</td>\n",
              "    </tr>\n",
              "    <tr>\n",
              "      <th>5794</th>\n",
              "      <td>0</td>\n",
              "      <td>Once upon a time, Manfred wrote :\\n\\n\\n\\n&gt; I w...</td>\n",
              "      <td>01178.5c977dff972cd6eef64d4173b90307f0</td>\n",
              "    </tr>\n",
              "    <tr>\n",
              "      <th>5795</th>\n",
              "      <td>0</td>\n",
              "      <td>If you run Pick, and then use the \"New FTOC\" b...</td>\n",
              "      <td>00747.352d424267d36975a7b40b85ffd0885e</td>\n",
              "    </tr>\n",
              "  </tbody>\n",
              "</table>\n",
              "<p>5796 rows × 3 columns</p>\n",
              "</div>\n",
              "    <div class=\"colab-df-buttons\">\n",
              "\n",
              "  <div class=\"colab-df-container\">\n",
              "    <button class=\"colab-df-convert\" onclick=\"convertToInteractive('df-426d7d82-543d-4f1c-b6d5-c4eb0d33f358')\"\n",
              "            title=\"Convert this dataframe to an interactive table.\"\n",
              "            style=\"display:none;\">\n",
              "\n",
              "  <svg xmlns=\"http://www.w3.org/2000/svg\" height=\"24px\" viewBox=\"0 -960 960 960\">\n",
              "    <path d=\"M120-120v-720h720v720H120Zm60-500h600v-160H180v160Zm220 220h160v-160H400v160Zm0 220h160v-160H400v160ZM180-400h160v-160H180v160Zm440 0h160v-160H620v160ZM180-180h160v-160H180v160Zm440 0h160v-160H620v160Z\"/>\n",
              "  </svg>\n",
              "    </button>\n",
              "\n",
              "  <style>\n",
              "    .colab-df-container {\n",
              "      display:flex;\n",
              "      gap: 12px;\n",
              "    }\n",
              "\n",
              "    .colab-df-convert {\n",
              "      background-color: #E8F0FE;\n",
              "      border: none;\n",
              "      border-radius: 50%;\n",
              "      cursor: pointer;\n",
              "      display: none;\n",
              "      fill: #1967D2;\n",
              "      height: 32px;\n",
              "      padding: 0 0 0 0;\n",
              "      width: 32px;\n",
              "    }\n",
              "\n",
              "    .colab-df-convert:hover {\n",
              "      background-color: #E2EBFA;\n",
              "      box-shadow: 0px 1px 2px rgba(60, 64, 67, 0.3), 0px 1px 3px 1px rgba(60, 64, 67, 0.15);\n",
              "      fill: #174EA6;\n",
              "    }\n",
              "\n",
              "    .colab-df-buttons div {\n",
              "      margin-bottom: 4px;\n",
              "    }\n",
              "\n",
              "    [theme=dark] .colab-df-convert {\n",
              "      background-color: #3B4455;\n",
              "      fill: #D2E3FC;\n",
              "    }\n",
              "\n",
              "    [theme=dark] .colab-df-convert:hover {\n",
              "      background-color: #434B5C;\n",
              "      box-shadow: 0px 1px 3px 1px rgba(0, 0, 0, 0.15);\n",
              "      filter: drop-shadow(0px 1px 2px rgba(0, 0, 0, 0.3));\n",
              "      fill: #FFFFFF;\n",
              "    }\n",
              "  </style>\n",
              "\n",
              "    <script>\n",
              "      const buttonEl =\n",
              "        document.querySelector('#df-426d7d82-543d-4f1c-b6d5-c4eb0d33f358 button.colab-df-convert');\n",
              "      buttonEl.style.display =\n",
              "        google.colab.kernel.accessAllowed ? 'block' : 'none';\n",
              "\n",
              "      async function convertToInteractive(key) {\n",
              "        const element = document.querySelector('#df-426d7d82-543d-4f1c-b6d5-c4eb0d33f358');\n",
              "        const dataTable =\n",
              "          await google.colab.kernel.invokeFunction('convertToInteractive',\n",
              "                                                    [key], {});\n",
              "        if (!dataTable) return;\n",
              "\n",
              "        const docLinkHtml = 'Like what you see? Visit the ' +\n",
              "          '<a target=\"_blank\" href=https://colab.research.google.com/notebooks/data_table.ipynb>data table notebook</a>'\n",
              "          + ' to learn more about interactive tables.';\n",
              "        element.innerHTML = '';\n",
              "        dataTable['output_type'] = 'display_data';\n",
              "        await google.colab.output.renderOutput(dataTable, element);\n",
              "        const docLink = document.createElement('div');\n",
              "        docLink.innerHTML = docLinkHtml;\n",
              "        element.appendChild(docLink);\n",
              "      }\n",
              "    </script>\n",
              "  </div>\n",
              "\n",
              "\n",
              "<div id=\"df-2cd25fc2-f271-4fee-8d1f-bfccdd6759df\">\n",
              "  <button class=\"colab-df-quickchart\" onclick=\"quickchart('df-2cd25fc2-f271-4fee-8d1f-bfccdd6759df')\"\n",
              "            title=\"Suggest charts\"\n",
              "            style=\"display:none;\">\n",
              "\n",
              "<svg xmlns=\"http://www.w3.org/2000/svg\" height=\"24px\"viewBox=\"0 0 24 24\"\n",
              "     width=\"24px\">\n",
              "    <g>\n",
              "        <path d=\"M19 3H5c-1.1 0-2 .9-2 2v14c0 1.1.9 2 2 2h14c1.1 0 2-.9 2-2V5c0-1.1-.9-2-2-2zM9 17H7v-7h2v7zm4 0h-2V7h2v10zm4 0h-2v-4h2v4z\"/>\n",
              "    </g>\n",
              "</svg>\n",
              "  </button>\n",
              "\n",
              "<style>\n",
              "  .colab-df-quickchart {\n",
              "      --bg-color: #E8F0FE;\n",
              "      --fill-color: #1967D2;\n",
              "      --hover-bg-color: #E2EBFA;\n",
              "      --hover-fill-color: #174EA6;\n",
              "      --disabled-fill-color: #AAA;\n",
              "      --disabled-bg-color: #DDD;\n",
              "  }\n",
              "\n",
              "  [theme=dark] .colab-df-quickchart {\n",
              "      --bg-color: #3B4455;\n",
              "      --fill-color: #D2E3FC;\n",
              "      --hover-bg-color: #434B5C;\n",
              "      --hover-fill-color: #FFFFFF;\n",
              "      --disabled-bg-color: #3B4455;\n",
              "      --disabled-fill-color: #666;\n",
              "  }\n",
              "\n",
              "  .colab-df-quickchart {\n",
              "    background-color: var(--bg-color);\n",
              "    border: none;\n",
              "    border-radius: 50%;\n",
              "    cursor: pointer;\n",
              "    display: none;\n",
              "    fill: var(--fill-color);\n",
              "    height: 32px;\n",
              "    padding: 0;\n",
              "    width: 32px;\n",
              "  }\n",
              "\n",
              "  .colab-df-quickchart:hover {\n",
              "    background-color: var(--hover-bg-color);\n",
              "    box-shadow: 0 1px 2px rgba(60, 64, 67, 0.3), 0 1px 3px 1px rgba(60, 64, 67, 0.15);\n",
              "    fill: var(--button-hover-fill-color);\n",
              "  }\n",
              "\n",
              "  .colab-df-quickchart-complete:disabled,\n",
              "  .colab-df-quickchart-complete:disabled:hover {\n",
              "    background-color: var(--disabled-bg-color);\n",
              "    fill: var(--disabled-fill-color);\n",
              "    box-shadow: none;\n",
              "  }\n",
              "\n",
              "  .colab-df-spinner {\n",
              "    border: 2px solid var(--fill-color);\n",
              "    border-color: transparent;\n",
              "    border-bottom-color: var(--fill-color);\n",
              "    animation:\n",
              "      spin 1s steps(1) infinite;\n",
              "  }\n",
              "\n",
              "  @keyframes spin {\n",
              "    0% {\n",
              "      border-color: transparent;\n",
              "      border-bottom-color: var(--fill-color);\n",
              "      border-left-color: var(--fill-color);\n",
              "    }\n",
              "    20% {\n",
              "      border-color: transparent;\n",
              "      border-left-color: var(--fill-color);\n",
              "      border-top-color: var(--fill-color);\n",
              "    }\n",
              "    30% {\n",
              "      border-color: transparent;\n",
              "      border-left-color: var(--fill-color);\n",
              "      border-top-color: var(--fill-color);\n",
              "      border-right-color: var(--fill-color);\n",
              "    }\n",
              "    40% {\n",
              "      border-color: transparent;\n",
              "      border-right-color: var(--fill-color);\n",
              "      border-top-color: var(--fill-color);\n",
              "    }\n",
              "    60% {\n",
              "      border-color: transparent;\n",
              "      border-right-color: var(--fill-color);\n",
              "    }\n",
              "    80% {\n",
              "      border-color: transparent;\n",
              "      border-right-color: var(--fill-color);\n",
              "      border-bottom-color: var(--fill-color);\n",
              "    }\n",
              "    90% {\n",
              "      border-color: transparent;\n",
              "      border-bottom-color: var(--fill-color);\n",
              "    }\n",
              "  }\n",
              "</style>\n",
              "\n",
              "  <script>\n",
              "    async function quickchart(key) {\n",
              "      const quickchartButtonEl =\n",
              "        document.querySelector('#' + key + ' button');\n",
              "      quickchartButtonEl.disabled = true;  // To prevent multiple clicks.\n",
              "      quickchartButtonEl.classList.add('colab-df-spinner');\n",
              "      try {\n",
              "        const charts = await google.colab.kernel.invokeFunction(\n",
              "            'suggestCharts', [key], {});\n",
              "      } catch (error) {\n",
              "        console.error('Error during call to suggestCharts:', error);\n",
              "      }\n",
              "      quickchartButtonEl.classList.remove('colab-df-spinner');\n",
              "      quickchartButtonEl.classList.add('colab-df-quickchart-complete');\n",
              "    }\n",
              "    (() => {\n",
              "      let quickchartButtonEl =\n",
              "        document.querySelector('#df-2cd25fc2-f271-4fee-8d1f-bfccdd6759df button');\n",
              "      quickchartButtonEl.style.display =\n",
              "        google.colab.kernel.accessAllowed ? 'block' : 'none';\n",
              "    })();\n",
              "  </script>\n",
              "</div>\n",
              "\n",
              "  <div id=\"id_a29451f9-fcdc-4810-9dab-1792a73aa7e7\">\n",
              "    <style>\n",
              "      .colab-df-generate {\n",
              "        background-color: #E8F0FE;\n",
              "        border: none;\n",
              "        border-radius: 50%;\n",
              "        cursor: pointer;\n",
              "        display: none;\n",
              "        fill: #1967D2;\n",
              "        height: 32px;\n",
              "        padding: 0 0 0 0;\n",
              "        width: 32px;\n",
              "      }\n",
              "\n",
              "      .colab-df-generate:hover {\n",
              "        background-color: #E2EBFA;\n",
              "        box-shadow: 0px 1px 2px rgba(60, 64, 67, 0.3), 0px 1px 3px 1px rgba(60, 64, 67, 0.15);\n",
              "        fill: #174EA6;\n",
              "      }\n",
              "\n",
              "      [theme=dark] .colab-df-generate {\n",
              "        background-color: #3B4455;\n",
              "        fill: #D2E3FC;\n",
              "      }\n",
              "\n",
              "      [theme=dark] .colab-df-generate:hover {\n",
              "        background-color: #434B5C;\n",
              "        box-shadow: 0px 1px 3px 1px rgba(0, 0, 0, 0.15);\n",
              "        filter: drop-shadow(0px 1px 2px rgba(0, 0, 0, 0.3));\n",
              "        fill: #FFFFFF;\n",
              "      }\n",
              "    </style>\n",
              "    <button class=\"colab-df-generate\" onclick=\"generateWithVariable('df')\"\n",
              "            title=\"Generate code using this dataframe.\"\n",
              "            style=\"display:none;\">\n",
              "\n",
              "  <svg xmlns=\"http://www.w3.org/2000/svg\" height=\"24px\"viewBox=\"0 0 24 24\"\n",
              "       width=\"24px\">\n",
              "    <path d=\"M7,19H8.4L18.45,9,17,7.55,7,17.6ZM5,21V16.75L18.45,3.32a2,2,0,0,1,2.83,0l1.4,1.43a1.91,1.91,0,0,1,.58,1.4,1.91,1.91,0,0,1-.58,1.4L9.25,21ZM18.45,9,17,7.55Zm-12,3A5.31,5.31,0,0,0,4.9,8.1,5.31,5.31,0,0,0,1,6.5,5.31,5.31,0,0,0,4.9,4.9,5.31,5.31,0,0,0,6.5,1,5.31,5.31,0,0,0,8.1,4.9,5.31,5.31,0,0,0,12,6.5,5.46,5.46,0,0,0,6.5,12Z\"/>\n",
              "  </svg>\n",
              "    </button>\n",
              "    <script>\n",
              "      (() => {\n",
              "      const buttonEl =\n",
              "        document.querySelector('#id_a29451f9-fcdc-4810-9dab-1792a73aa7e7 button.colab-df-generate');\n",
              "      buttonEl.style.display =\n",
              "        google.colab.kernel.accessAllowed ? 'block' : 'none';\n",
              "\n",
              "      buttonEl.onclick = () => {\n",
              "        google.colab.notebook.generateWithVariable('df');\n",
              "      }\n",
              "      })();\n",
              "    </script>\n",
              "  </div>\n",
              "\n",
              "    </div>\n",
              "  </div>\n"
            ],
            "application/vnd.google.colaboratory.intrinsic+json": {
              "type": "dataframe",
              "variable_name": "df",
              "summary": "{\n  \"name\": \"df\",\n  \"rows\": 5796,\n  \"fields\": [\n    {\n      \"column\": \"CATEGORY\",\n      \"properties\": {\n        \"dtype\": \"number\",\n        \"std\": 0,\n        \"min\": 0,\n        \"max\": 1,\n        \"num_unique_values\": 2,\n        \"samples\": [\n          0,\n          1\n        ],\n        \"semantic_type\": \"\",\n        \"description\": \"\"\n      }\n    },\n    {\n      \"column\": \"MESSAGE\",\n      \"properties\": {\n        \"dtype\": \"string\",\n        \"num_unique_values\": 5625,\n        \"samples\": [\n          \"[Skip Montanaro]\\n\\n> Because I get mail through several different email addresses, I\\n\\n> frequently get duplicates (or triplicates or more-plicates) of\\n\\n> various spam messages.  In saving spam for later analysis I haven't\\n\\n> always been careful to avoid saving such duplicates.\\n\\n>\\n\\n> I wrote a script some time ago to try an minimize the duplicates I see\\n\\n> by calculating a loose checksum, but I still have some duplicates.\\n\\n> Should I delete the duplicates before training or not?\\n\\n\\n\\nPeople just can't stop thinking <wink>.  The classifier should work best\\n\\nwhen trained on a wholly random spattering of real life.  If real life\\n\\ncontains duplicates, then that's what the classifier should see.\\n\\n\\n\\n> Would people be interested in the script?  I'd be happy to extricate\\n\\n> it from my local modules and check it into CVS.\\n\\n\\n\\nSure!  I think it's relevant, but maybe for another purpose.  Paul Svensson\\n\\nis thinking harder about real people <wink> than the rest of us, and he may\\n\\nbe able to get use out of approaches that identify closely related spam.\\n\\nFor example, some amount of spam is going to end up in the ham training data\\n\\nin real life use, and any sort of similarity score to a piece of known spam\\n\\nmay be an aid in finding and purging it.\\n\\n\\n\",\n          \"<HTML><HEAD></HEAD><BODY><b><FONT SIZE=3D4>In a recent survey conducted by =\\n\\n<FONT COLOR=3D#0033FF><B>Durex</B>\\n\\n</FONT>condoms, <FONT COLOR=3D#FF0033>6=\\n\\n7%\\n\\n</FONT>of women said that<br>they are unhappy with the size of their lo=\\n\\nvers. Proof that <FONT COLOR=3D#FF0033>size does<br>matter</FONT>! A large=\\n\\n penis has much more surface area and is capable of<br>stimulating more ne=\\n\\nrve endings, providing more pleasure for you and your<br>partner. Our revo=\\n\\nlutionary pill developed by world famous pharmacist is<br>guaranteed to in=\\n\\ncrease your size by 1-3\\\".<BR><A HREF=3Dhttp://affiliate.vpgate.com/affilia=\\n\\ntewiz.asp?BannerID=3D1&AffiliateID=3D4&Task=3DClick>Enter here for details=\\n\\n</A></FONT><BR><b><BR><BR><BR><BR><BR><BR><BR><BR><BR><BR><BR><BR><BR><BR>=\\n\\n<BR><BR><BR><BR><BR><FONT SIZE=3D1 COLOR=3D#FFFFCC>To come off just <A HRE=\\n\\nF=3Dhttp://www.vpgate.com/remove>Open here</A></FONT></BODY></HTML>\\n\\n\\n\\n\\n\\n\\n\"\n        ],\n        \"semantic_type\": \"\",\n        \"description\": \"\"\n      }\n    },\n    {\n      \"column\": \"FILE_NAME\",\n      \"properties\": {\n        \"dtype\": \"string\",\n        \"num_unique_values\": 5796,\n        \"samples\": [\n          \"00420.f6140b71df992b02cc59548039eb05ca\",\n          \"00314.611159749e214b996589d557e335648e\"\n        ],\n        \"semantic_type\": \"\",\n        \"description\": \"\"\n      }\n    }\n  ]\n}"
            }
          },
          "metadata": {},
          "execution_count": 1
        }
      ],
      "source": [
        "import pandas as pd\n",
        "df = pd.read_csv('https://raw.githubusercontent.com/Marco-barthem/email-spam-classification/refs/heads/main/Spam%20Email%20raw%20text%20for%20NLP.csv')\n",
        "df"
      ]
    },
    {
      "cell_type": "code",
      "source": [
        "df['CATEGORY'].value_counts()"
      ],
      "metadata": {
        "colab": {
          "base_uri": "https://localhost:8080/",
          "height": 178
        },
        "id": "G5hXb9sUuKXo",
        "outputId": "b90d00ae-2d09-46ea-fd57-b46bbef2518d"
      },
      "execution_count": null,
      "outputs": [
        {
          "output_type": "execute_result",
          "data": {
            "text/plain": [
              "CATEGORY\n",
              "0    3900\n",
              "1    1896\n",
              "Name: count, dtype: int64"
            ],
            "text/html": [
              "<div>\n",
              "<style scoped>\n",
              "    .dataframe tbody tr th:only-of-type {\n",
              "        vertical-align: middle;\n",
              "    }\n",
              "\n",
              "    .dataframe tbody tr th {\n",
              "        vertical-align: top;\n",
              "    }\n",
              "\n",
              "    .dataframe thead th {\n",
              "        text-align: right;\n",
              "    }\n",
              "</style>\n",
              "<table border=\"1\" class=\"dataframe\">\n",
              "  <thead>\n",
              "    <tr style=\"text-align: right;\">\n",
              "      <th></th>\n",
              "      <th>count</th>\n",
              "    </tr>\n",
              "    <tr>\n",
              "      <th>CATEGORY</th>\n",
              "      <th></th>\n",
              "    </tr>\n",
              "  </thead>\n",
              "  <tbody>\n",
              "    <tr>\n",
              "      <th>0</th>\n",
              "      <td>3900</td>\n",
              "    </tr>\n",
              "    <tr>\n",
              "      <th>1</th>\n",
              "      <td>1896</td>\n",
              "    </tr>\n",
              "  </tbody>\n",
              "</table>\n",
              "</div><br><label><b>dtype:</b> int64</label>"
            ]
          },
          "metadata": {},
          "execution_count": 2
        }
      ]
    },
    {
      "cell_type": "markdown",
      "source": [
        "## Importando bibliotecas para NLP"
      ],
      "metadata": {
        "id": "1kcpIvMB_NRG"
      }
    },
    {
      "cell_type": "code",
      "source": [
        "import nltk #Natural Language Tool Kit\n",
        "nltk.download('stopwords')\n",
        "nltk.download('wordnet')"
      ],
      "metadata": {
        "colab": {
          "base_uri": "https://localhost:8080/"
        },
        "id": "d4_Vw58ouiVU",
        "outputId": "8b64793a-b08f-491a-da65-d42d30a8e0f6"
      },
      "execution_count": null,
      "outputs": [
        {
          "output_type": "stream",
          "name": "stderr",
          "text": [
            "[nltk_data] Downloading package stopwords to /root/nltk_data...\n",
            "[nltk_data]   Unzipping corpora/stopwords.zip.\n",
            "[nltk_data] Downloading package wordnet to /root/nltk_data...\n"
          ]
        },
        {
          "output_type": "execute_result",
          "data": {
            "text/plain": [
              "True"
            ]
          },
          "metadata": {},
          "execution_count": 3
        }
      ]
    },
    {
      "cell_type": "code",
      "source": [
        "from nltk.corpus import stopwords\n",
        "from nltk.stem import WordNetLemmatizer\n",
        "from nltk.tokenize import ToktokTokenizer\n",
        "\n",
        "#tokenizer = ToktokTokenizer()\n",
        "tokenizer =nltk.tokenize.RegexpTokenizer(r'\\w+')\n",
        "lemmatizer = WordNetLemmatizer()\n",
        "stopwords = stopwords.words('english')"
      ],
      "metadata": {
        "id": "v2mkJhaFwyCx"
      },
      "execution_count": null,
      "outputs": []
    },
    {
      "cell_type": "markdown",
      "source": [
        "## Pre processamento"
      ],
      "metadata": {
        "id": "FyKpbYXF_VKR"
      }
    },
    {
      "cell_type": "code",
      "source": [
        "def message_to_token_list(s): #Tokeniza as palavras da base\n",
        "    tokens = tokenizer.tokenize(s)\n",
        "    lower_case = [t.lower() for t in tokens]  # filtra símbolos e acentos\n",
        "    lemmatizer_words = [lemmatizer.lemmatize(i) for i in lower_case]\n",
        "    useful_tokens = [u for u in lemmatizer_words if u not in stopwords]\n",
        "    return useful_tokens"
      ],
      "metadata": {
        "id": "1t-IwiB10sHo"
      },
      "execution_count": null,
      "outputs": []
    },
    {
      "cell_type": "code",
      "source": [
        "df = df.sample(frac=1,random_state=1) #Separndo a base de treino e de teste\n",
        "df=df.reset_index(drop=True)\n",
        "\n",
        "split_index = int(len(df)*0.8)\n",
        "train_df,test_df = df[:split_index],df[split_index:]\n",
        "\n",
        "train_df = train_df.reset_index(drop=True)\n",
        "test_df = test_df.reset_index(drop=True)\n",
        "\n",
        "train_df,test_df"
      ],
      "metadata": {
        "colab": {
          "base_uri": "https://localhost:8080/"
        },
        "id": "U3akLWjZ1msh",
        "outputId": "4494296b-77e5-4816-98d3-6f6e5b616827"
      },
      "execution_count": null,
      "outputs": [
        {
          "output_type": "execute_result",
          "data": {
            "text/plain": [
              "(      CATEGORY                                            MESSAGE  \\\n",
              " 0            1  \\n\\n<HTML><FONT  BACK=\"#ffffff\" style=\"BACKGRO...   \n",
              " 1            1  <html><body bgColor=\"#CCCCCC\" topmargin=1 onMo...   \n",
              " 2            0  Quoting Paul Linehan (plinehan@yahoo.com):\\n\\n...   \n",
              " 3            0  <a href=http://www.aaronsw.com/weblog/>\\n\\nAar...   \n",
              " 4            0  Oh yeah, the link for more info:\\n\\n\\n\\nhttp:/...   \n",
              " ...        ...                                                ...   \n",
              " 4631         0  Gregory Alan Bolcer:\\n\\n>I'm not sure since I ...   \n",
              " 4632         1  New Account For: zzzz@spamassassin.taint.org\\n...   \n",
              " 4633         0  >>>>> \"O\" == Owen Byrne <owen@permafrost.net> ...   \n",
              " 4634         0  This is an automated response to a message you...   \n",
              " 4635         0  http://www.ouchytheclown.com/welcome.html\\n\\n\\...   \n",
              " \n",
              "                                    FILE_NAME  \n",
              " 0     00118.141d803810acd9d4fc23db103dddfcd9  \n",
              " 1     00463.0bc4e08af0529dd773d9f10f922547db  \n",
              " 2     00358.87ee38040ac1f42320c7b89628b1850a  \n",
              " 3     01274.0d083a2d3b30061efdc2cc73ee9e76e3  \n",
              " 4     00756.2b2ec73ad20a4e0bdf31632ac019233b  \n",
              " ...                                      ...  \n",
              " 4631  00830.3a2cadbd29e654a7cbbf64ba4bdc378d  \n",
              " 4632  00354.dca4b8984863a76ffd01a33888498288  \n",
              " 4633  00346.f1d941485f6a20b29329111c59760585  \n",
              " 4634  00033.2ceb520d2c6500ccf24357f2ebdce618  \n",
              " 4635  00170.14c40e625814c14dfe2eb997157c6437  \n",
              " \n",
              " [4636 rows x 3 columns],\n",
              "       CATEGORY                                            MESSAGE  \\\n",
              " 0            0  This is just an semi-educated guess - if I'm w...   \n",
              " 1            1  ------=_NextPart_000_00B0_58C75D0E.A4523D08\\n\\...   \n",
              " 2            0  I seem to be getting the known spam message nu...   \n",
              " 3            0  \\n\\n\\n\\n>>>>> On Mon, 30 Sep 2002, \"Ted\" == Te...   \n",
              " 4            1  This is a multi-part message in MIME format.\\n...   \n",
              " ...        ...                                                ...   \n",
              " 1155         1  <html>\\n\\n\\n\\n<body>\\n\\n\\n\\n<font size=\"2\" PTS...   \n",
              " 1156         0  \\n\\n\\n\\nformail did the trick. Thanks to those...   \n",
              " 1157         0  URL: http://www.askbjoernhansen.com/archives/2...   \n",
              " 1158         1  <html>\\n\\n<head>\\n\\n   <meta http-equiv=3D\"Con...   \n",
              " 1159         0  >>>>> \"E\" == Elias Sinderson <elias@cse.ucsc.e...   \n",
              " \n",
              "                                    FILE_NAME  \n",
              " 0     01503.5e13994a5676296ed31b14e83367031c  \n",
              " 1     00441.3b9c3055e08bda4c0f7eea43749e324c  \n",
              " 2     00623.8bf6da05b986d3b16c208102e1c266f2  \n",
              " 3     01143.77077715a838bb473dad6a466d2e2403  \n",
              " 4     00224.1b3430b101a8a8b22493c4948fcbe9cc  \n",
              " ...                                      ...  \n",
              " 1155  00552.877d8dbff829787aa8349b433a8421f0  \n",
              " 1156  00647.97e77e8264c32c8b05077edc15721ba2  \n",
              " 1157  02055.80f7eff41824e0337e453a988ceda994  \n",
              " 1158  00376.f4ed5f002f9b6b320a67f1da9cacbe72  \n",
              " 1159  00987.1d700056f6a043acd5d388ca81fa0b1f  \n",
              " \n",
              " [1160 rows x 3 columns])"
            ]
          },
          "metadata": {},
          "execution_count": 8
        }
      ]
    },
    {
      "cell_type": "code",
      "source": [
        "token_counter = {}\n",
        "\n",
        "for message in train_df['MESSAGE']:\n",
        "  message_as_tkn_lst = message_to_token_list(message)\n",
        "  for t in message_as_tkn_lst:\n",
        "    if t not in token_counter:\n",
        "      token_counter[t] = 1\n",
        "    else:\n",
        "      token_counter[t] += 1\n",
        "\n",
        "len(token_counter)"
      ],
      "metadata": {
        "colab": {
          "base_uri": "https://localhost:8080/"
        },
        "id": "_-kY6Wjc2yUF",
        "outputId": "ee16615b-5fb2-44e1-9d6a-3c0c4cb2ddb8"
      },
      "execution_count": null,
      "outputs": [
        {
          "output_type": "execute_result",
          "data": {
            "text/plain": [
              "86439"
            ]
          },
          "metadata": {},
          "execution_count": 9
        }
      ]
    },
    {
      "cell_type": "code",
      "source": [
        "def keep_token(token,treshold): #Função que conseguimos o limar das palavras (Filtramos apenas as palavras com o maior limiar)\n",
        "  if token not in token_counter:\n",
        "    return False\n",
        "  else:\n",
        "    return token_counter[token] >= treshold"
      ],
      "metadata": {
        "id": "Wvs044b8ulJz"
      },
      "execution_count": 16,
      "outputs": []
    },
    {
      "cell_type": "markdown",
      "source": [
        "## Criando Bag of words"
      ],
      "metadata": {
        "id": "AyGpI2Iz_lrR"
      }
    },
    {
      "cell_type": "code",
      "source": [
        "features=set()\n",
        "\n",
        "for i in token_counter:\n",
        "  if keep_token(i,10000):\n",
        "    features.add(i)\n",
        "\n",
        "features =list(features)\n",
        "features #bag of words"
      ],
      "metadata": {
        "colab": {
          "base_uri": "https://localhost:8080/"
        },
        "id": "tdHMVad6-oMC",
        "outputId": "a749632a-11cd-4bcd-adb5-281fa280f1b3"
      },
      "execution_count": 18,
      "outputs": [
        {
          "output_type": "execute_result",
          "data": {
            "text/plain": [
              "['3d', 'td', 'size', 'tr', 'b', 'com', 'http', 'p', 'font', 'br']"
            ]
          },
          "metadata": {},
          "execution_count": 18
        }
      ]
    },
    {
      "cell_type": "code",
      "source": [
        "token_to_index_mapping = {t:i for t,i in zip(features,range(len(features)))} #dicionário que mapeia cada token  para um índice numérico.\n",
        "token_to_index_mapping\n"
      ],
      "metadata": {
        "colab": {
          "base_uri": "https://localhost:8080/"
        },
        "id": "Wwx1dJsh_C7A",
        "outputId": "6b3dd11a-4433-4d38-a2db-7202e4a85e0c"
      },
      "execution_count": 34,
      "outputs": [
        {
          "output_type": "execute_result",
          "data": {
            "text/plain": [
              "{'3d': 0,\n",
              " 'td': 1,\n",
              " 'size': 2,\n",
              " 'tr': 3,\n",
              " 'b': 4,\n",
              " 'com': 5,\n",
              " 'http': 6,\n",
              " 'p': 7,\n",
              " 'font': 8,\n",
              " 'br': 9}"
            ]
          },
          "metadata": {},
          "execution_count": 34
        }
      ]
    },
    {
      "cell_type": "code",
      "source": [
        "import numpy as np\n",
        "def message_to_count_vector(message):\n",
        "  count_vector = np.zeros(len(features))\n",
        "\n",
        "  processed_token_list = message_to_token_list(message)\n",
        "\n",
        "  for token in processed_token_list:\n",
        "    if token not in features:\n",
        "      continue\n",
        "    index = token_to_index_mapping[token]\n",
        "    count_vector[index] += 1\n",
        "  return count_vector\n",
        "\n"
      ],
      "metadata": {
        "id": "_TCvXLw2AtfA"
      },
      "execution_count": 36,
      "outputs": []
    },
    {
      "cell_type": "code",
      "source": [
        "message_to_count_vector(train_df['MESSAGE'].iloc[1])"
      ],
      "metadata": {
        "colab": {
          "base_uri": "https://localhost:8080/"
        },
        "id": "Hy8jY3CnxPId",
        "outputId": "e00f3897-c7d3-4d6f-a8f2-f6c6273ffb1e"
      },
      "execution_count": 37,
      "outputs": [
        {
          "output_type": "execute_result",
          "data": {
            "text/plain": [
              "array([ 0.,  4.,  7.,  1., 12.,  2.,  2., 10., 14., 22.])"
            ]
          },
          "metadata": {},
          "execution_count": 37
        }
      ]
    },
    {
      "cell_type": "code",
      "source": [
        "train_df['MESSAGE'].iloc[1]"
      ],
      "metadata": {
        "colab": {
          "base_uri": "https://localhost:8080/",
          "height": 255
        },
        "id": "fMHW24Rtxhko",
        "outputId": "8e1afaef-72fc-4cbd-e50a-9bce2f27fdd0"
      },
      "execution_count": 28,
      "outputs": [
        {
          "output_type": "execute_result",
          "data": {
            "text/plain": [
              "'<html><body bgColor=\"#CCCCCC\" topmargin=1 onMouseOver=\"window.status=\\'\\'; return true\" oncontextmenu=\"return false\" ondragstart=\"return false\" onselectstart=\"return false\">\\n\\n<div align=\"center\">Hello, jlnax@yahoo.com<BR><BR>\\n\\n</div><div align=\"center\"></div><p align=\"center\"><b><font face=\"Arial\" size=\"4\">Hum<!--jlnax-->an \\n\\nGro<!--jlnax-->wth \\n\\nHor<!--jlnax-->mone \\n\\nTher<!--jlnax-->apy</font>\\n\\n</b></p>\\n\\n<p align=\"center\"><b><font face=\"Arial\" size=\"4\">Lo<!--jlnax-->se \\n\\nwei<!--jlnax-->ght while \\n\\nbuil<!--jlnax-->ding \\n\\nle<!--jlnax-->an \\n\\nmus<!--jlnax-->cle \\n\\nmass<br>and \\n\\nrever<!--jlnax-->sing the \\n\\nravag<!--jlnax-->es of \\n\\nag<!--jlnax-->ing all at once.</font><font face=\"Arial\" size=\"3\"><br>\\n\\n</font></b><font face=\"Arial\" size=\"3\"> <br>Remar<!--jlnax-->kable \\n\\ndiscov<!--jlnax-->eries about \\n\\nHum<!--jlnax-->an \\n\\nGro<!--jlnax-->wth \\n\\nHormo<!--jlnax-->nes \\n\\n(<b>HG<!--jlnax-->H</b>) \\n\\n<br>are changing the way we think about ag<!--jlnax-->ing and \\n\\nwei<!--jlnax-->ght \\n\\nlo<!--jlnax-->ss.</font></p>\\n\\n<center><table width=\"481\"><tr><td height=\"2\" width=\"247\"><p align=\"left\"><b><font face=\"Arial, Helvetica, sans-serif\" size=\"3\">L<!--jlnax-->ose \\n\\nWei<!--jlnax-->ght<br>\\n\\nBui<!--jlnax-->ld \\n\\nMus<!--jlnax-->cle Tone<br>\\n\\nRe<!--jlnax-->verse \\n\\nAgi<!--jlnax-->ng<br>\\n\\nIncreas<!--jlnax-->ed \\n\\nLib<!--jlnax-->ido<br>\\n\\nDura<!--jlnax-->tion Of \\n\\nPen<!--jlnax-->ile \\n\\nErect<!--jlnax-->ion<br></font></b></p></td><td height=\"2\" width=\"222\"><p align=\"left\"><b><font face=\"Arial, Helvetica, sans-serif\" size=\"3\">\\n\\nHealt<!--jlnax-->hier \\n\\nBon<!--jlnax-->es<br>\\n\\nImpr<!--jlnax-->oved \\n\\nMemo<!--jlnax-->ry<br>\\n\\nImpr<!--jlnax-->oved skin<br>\\n\\nNew Hair Gr<!--jlnax-->owth<br>\\n\\nWri<!--jlnax-->nkle \\n\\nDisap<!--jlnax-->pearance </font></b></p></td></table></center><p align=\"center\"><a href=\"http://211.99.37.206:81/ultimatehgh_li/\"><font face=\"Arial\" size=\"4\"><b>Visit \\n\\nOur Web Si<!--jlnax-->te \\n\\nand Learn The Fa<!--jlnax-->cts: Click Here</b></font></a></p><div align=\"center\"><br><br><br><BR>\\n\\nYou are rece<!--jlnax-->iving this email as a \\n\\nsubscr<!--jlnax-->iber<br>to the \\n\\nOpt<!--jlnax-->-In \\n\\nAmeri<!--jlnax-->ca \\n\\nMailin<!--jlnax-->g \\n\\nLis<!--jlnax-->t. <br>\\n\\nTo remo<!--jlnax-->ve \\n\\nyour<!--jlnax-->self from all related \\n\\nmailli<!--me-->sts,<br>just <a href=\"http://211.99.37.206:81/ultimatehgh_li/remove.php?userid=jlnax@yahoo.com\">Click Here</a></div></body></html>\\n'"
            ],
            "application/vnd.google.colaboratory.intrinsic+json": {
              "type": "string"
            }
          },
          "metadata": {},
          "execution_count": 28
        }
      ]
    },
    {
      "cell_type": "code",
      "source": [
        "train_df.iloc[1]"
      ],
      "metadata": {
        "colab": {
          "base_uri": "https://localhost:8080/",
          "height": 178
        },
        "id": "8zpSJcoTxnHt",
        "outputId": "0e83647f-4b58-4bb3-f25d-0511863b6db2"
      },
      "execution_count": 29,
      "outputs": [
        {
          "output_type": "execute_result",
          "data": {
            "text/plain": [
              "CATEGORY                                                     1\n",
              "MESSAGE      <html><body bgColor=\"#CCCCCC\" topmargin=1 onMo...\n",
              "FILE_NAME               00463.0bc4e08af0529dd773d9f10f922547db\n",
              "Name: 1, dtype: object"
            ],
            "text/html": [
              "<div>\n",
              "<style scoped>\n",
              "    .dataframe tbody tr th:only-of-type {\n",
              "        vertical-align: middle;\n",
              "    }\n",
              "\n",
              "    .dataframe tbody tr th {\n",
              "        vertical-align: top;\n",
              "    }\n",
              "\n",
              "    .dataframe thead th {\n",
              "        text-align: right;\n",
              "    }\n",
              "</style>\n",
              "<table border=\"1\" class=\"dataframe\">\n",
              "  <thead>\n",
              "    <tr style=\"text-align: right;\">\n",
              "      <th></th>\n",
              "      <th>1</th>\n",
              "    </tr>\n",
              "  </thead>\n",
              "  <tbody>\n",
              "    <tr>\n",
              "      <th>CATEGORY</th>\n",
              "      <td>1</td>\n",
              "    </tr>\n",
              "    <tr>\n",
              "      <th>MESSAGE</th>\n",
              "      <td>&lt;html&gt;&lt;body bgColor=\"#CCCCCC\" topmargin=1 onMo...</td>\n",
              "    </tr>\n",
              "    <tr>\n",
              "      <th>FILE_NAME</th>\n",
              "      <td>00463.0bc4e08af0529dd773d9f10f922547db</td>\n",
              "    </tr>\n",
              "  </tbody>\n",
              "</table>\n",
              "</div><br><label><b>dtype:</b> object</label>"
            ]
          },
          "metadata": {},
          "execution_count": 29
        }
      ]
    },
    {
      "cell_type": "markdown",
      "source": [
        "## Treinamento e resultados do Modelo"
      ],
      "metadata": {
        "id": "0Rg3YpV5_yUG"
      }
    },
    {
      "cell_type": "code",
      "source": [
        "def df_to_x_y(df):\n",
        "  y = df['CATEGORY'].to_numpy().astype(int)\n",
        "\n",
        "  message_columns = df['MESSAGE']\n",
        "\n",
        "  count_vectors = []\n",
        "\n",
        "  for message in message_columns:\n",
        "    count_vector = message_to_count_vector(message)\n",
        "    count_vectors.append(count_vector)\n",
        "\n",
        "  X = np.array(count_vectors).astype(int)\n",
        "\n",
        "  return X, y"
      ],
      "metadata": {
        "id": "OTixZDJo1Bm2"
      },
      "execution_count": 47,
      "outputs": []
    },
    {
      "cell_type": "code",
      "source": [
        "X_train,y_train = df_to_x_y(train_df)\n",
        "\n",
        "X_test,y_test = df_to_x_y(test_df)\n",
        "\n",
        "X_train.shape, y_train.shape, X_test.shape, y_test.shape"
      ],
      "metadata": {
        "colab": {
          "base_uri": "https://localhost:8080/"
        },
        "id": "eFh7RD4M5A7O",
        "outputId": "731aa309-7117-4dde-be24-6e73c48e9e54"
      },
      "execution_count": 49,
      "outputs": [
        {
          "output_type": "execute_result",
          "data": {
            "text/plain": [
              "((4636, 10), (4636,), (1160, 10), (1160,))"
            ]
          },
          "metadata": {},
          "execution_count": 49
        }
      ]
    },
    {
      "cell_type": "code",
      "source": [
        "from sklearn.preprocessing import MinMaxScaler\n",
        "scaler = MinMaxScaler().fit(X_train)\n",
        "X_train = scaler.transform(X_train)\n",
        "X_test = scaler.transform(X_test)"
      ],
      "metadata": {
        "id": "TFVtZGSN7IkH"
      },
      "execution_count": 51,
      "outputs": []
    },
    {
      "cell_type": "code",
      "source": [
        "from sklearn.linear_model import LogisticRegression\n",
        "from sklearn.metrics import classification_report\n",
        "from sklearn.metrics import confusion_matrix, ConfusionMatrixDisplay\n",
        "import matplotlib.pyplot as plt\n",
        "\n",
        "model_lr = LogisticRegression()\n",
        "model_lr.fit(X_train,y_train)\n",
        "\n",
        "y_pred = model_lr.predict(X_test)\n",
        "\n",
        "print(classification_report(y_test,y_pred))\n",
        "\n",
        "cm = confusion_matrix(y_test, y_pred)\n",
        "\n",
        "disp = ConfusionMatrixDisplay(confusion_matrix=cm, display_labels=model.classes_)  # ou ['spam', 'ham']\n",
        "disp.plot(cmap=plt.cm.Blues)\n",
        "plt.title('Matriz de Confusão')\n",
        "plt.show()"
      ],
      "metadata": {
        "colab": {
          "base_uri": "https://localhost:8080/",
          "height": 636
        },
        "id": "Lb30KhFt8WgF",
        "outputId": "304df927-7d93-43e3-e78d-25e2fc3a68f9"
      },
      "execution_count": 57,
      "outputs": [
        {
          "output_type": "stream",
          "name": "stdout",
          "text": [
            "              precision    recall  f1-score   support\n",
            "\n",
            "           0       0.76      1.00      0.86       788\n",
            "           1       0.99      0.32      0.48       372\n",
            "\n",
            "    accuracy                           0.78      1160\n",
            "   macro avg       0.87      0.66      0.67      1160\n",
            "weighted avg       0.83      0.78      0.74      1160\n",
            "\n"
          ]
        },
        {
          "output_type": "display_data",
          "data": {
            "text/plain": [
              "<Figure size 640x480 with 2 Axes>"
            ],
            "image/png": "[encoded data removed]"
          },
          "metadata": {}
        }
      ]
    },
    {
      "cell_type": "code",
      "source": [
        "from sklearn.ensemble import RandomForestClassifier\n",
        "\n",
        "model_rf = RandomForestClassifier()\n",
        "model_rf.fit(X_train,y_train)\n",
        "\n",
        "y_pred = model_rf.predict(X_test)\n",
        "\n",
        "print(classification_report(y_test,y_pred))\n",
        "cm = confusion_matrix(y_test, y_pred)\n",
        "\n",
        "disp = ConfusionMatrixDisplay(confusion_matrix=cm, display_labels=model.classes_)  # ou ['spam', 'ham']\n",
        "disp.plot(cmap=plt.cm.Blues)\n",
        "plt.title('Matriz de Confusão')\n",
        "plt.show()"
      ],
      "metadata": {
        "colab": {
          "base_uri": "https://localhost:8080/",
          "height": 636
        },
        "id": "tLNeaUcx8zR-",
        "outputId": "29ef71f8-4931-4aed-8e05-0e6c08ae8196"
      },
      "execution_count": 58,
      "outputs": [
        {
          "output_type": "stream",
          "name": "stdout",
          "text": [
            "              precision    recall  f1-score   support\n",
            "\n",
            "           0       0.83      0.97      0.89       788\n",
            "           1       0.90      0.58      0.70       372\n",
            "\n",
            "    accuracy                           0.84      1160\n",
            "   macro avg       0.86      0.77      0.80      1160\n",
            "weighted avg       0.85      0.84      0.83      1160\n",
            "\n"
          ]
        },
        {
          "output_type": "display_data",
          "data": {
            "text/plain": [
              "<Figure size 640x480 with 2 Axes>"
            ],
            "image/png": "[encoded data removed]"
          },
          "metadata": {}
        }
      ]
    }
  ]
}